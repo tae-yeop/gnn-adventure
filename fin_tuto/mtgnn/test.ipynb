{
 "cells": [
  {
   "cell_type": "code",
   "execution_count": 1,
   "metadata": {
    "collapsed": true
   },
   "outputs": [],
   "source": [
    "import torch\n",
    "import torch.nn as nn\n",
    "from torch.nn import init\n",
    "import numbers\n",
    "import torch.nn.functional as F\n",
    "\n",
    "x = torch.randn((1, 3, 5, 6))\n",
    "A = torch.randn(4, 5)\n",
    "\n",
    "\n",
    "t = torch.einsum('ncwl, vw -> ncvl', (x,A))"
   ]
  },
  {
   "cell_type": "code",
   "execution_count": 5,
   "outputs": [
    {
     "data": {
      "text/plain": "tensor([[[[ 9.0172e-01, -1.9854e-01, -8.6891e-02, -1.6345e+00, -1.2489e+00,\n           -8.7067e-01],\n          [ 1.0021e-01,  3.3850e+00, -2.4662e-01, -6.4986e-01, -8.2710e-01,\n           -1.8724e+00],\n          [ 1.7759e+00, -1.8198e+00, -5.5129e-01,  1.5802e+00, -3.0832e-01,\n            2.8828e+00],\n          [-1.9824e+00,  1.2965e+00,  7.3152e-01, -2.1535e+00, -2.1752e+00,\n           -5.1440e+00]],\n\n         [[-1.7393e+00, -9.3959e-01,  1.9033e+00, -1.5330e+00,  1.1069e+00,\n            2.0381e+00],\n          [ 2.1071e+00,  1.5136e+00,  3.0667e-01, -2.7259e+00,  2.5054e+00,\n           -9.8211e-01],\n          [-1.5411e+00,  1.3213e+00,  6.9199e-01,  1.8372e+00, -2.4748e+00,\n            2.5401e+00],\n          [ 1.1707e+00,  2.2623e-01,  3.4277e-03, -2.0262e+00,  4.1169e+00,\n           -1.6642e+00]],\n\n         [[-2.3178e+00, -2.3793e+00, -1.5398e+00,  1.1825e+00, -3.5014e+00,\n            2.4885e+00],\n          [-3.4671e+00, -4.4650e-01, -1.8037e+00,  5.1340e-01, -2.1107e+00,\n            4.1629e-02],\n          [ 3.7766e+00, -1.2835e+00, -1.7418e+00, -1.0726e+00,  8.2291e-01,\n            2.6040e+00],\n          [-5.1787e+00, -1.2236e+00,  2.7004e-01,  1.1730e+00, -2.5707e+00,\n           -3.6175e+00]]]])"
     },
     "execution_count": 5,
     "metadata": {},
     "output_type": "execute_result"
    }
   ],
   "source": [
    "t"
   ],
   "metadata": {
    "collapsed": false,
    "pycharm": {
     "name": "#%%\n"
    }
   }
  },
  {
   "cell_type": "code",
   "execution_count": 6,
   "outputs": [
    {
     "data": {
      "text/plain": "False"
     },
     "execution_count": 6,
     "metadata": {},
     "output_type": "execute_result"
    }
   ],
   "source": [
    "t.is_contiguous()"
   ],
   "metadata": {
    "collapsed": false,
    "pycharm": {
     "name": "#%%\n"
    }
   }
  },
  {
   "cell_type": "code",
   "execution_count": 2,
   "outputs": [],
   "source": [
    "class nconv(nn.Module):\n",
    "  def __init__(self):\n",
    "    super(nconv, self).__init__()\n",
    "\n",
    "  def forward(self,x,A):\n",
    "    x = torch.einsum('ncwl,vw -> ncvl', (x,A))\n",
    "    return x.contiguous()\n"
   ],
   "metadata": {
    "collapsed": false,
    "pycharm": {
     "name": "#%%\n"
    }
   }
  },
  {
   "cell_type": "code",
   "execution_count": 3,
   "outputs": [],
   "source": [
    "class dy_nconv(nn.Module):\n",
    "  def __init__(self):\n",
    "    super(dy_nconv,self).__init__()\n",
    "\n",
    "  def forward(self, x, A):\n",
    "    x = torch.einsum('nvl, nvwl->ncwl', (x,A))\n",
    "    return x.contiguous()"
   ],
   "metadata": {
    "collapsed": false,
    "pycharm": {
     "name": "#%%\n"
    }
   }
  },
  {
   "cell_type": "code",
   "execution_count": 4,
   "outputs": [],
   "source": [
    "class linear(nn.Module):\n",
    "  def __init__(self, c_in, c_out, bias=True):\n",
    "    super(linear, self).__init__()\n",
    "    self.mlp = torch.nn.Conv2d(c_in, c_out, kernel_size=(1,1), padding=(0,0),\n",
    "                               stride=(1,1), bias=bias)\n",
    "  def forward(self,x):\n",
    "    return self.mlp(x)"
   ],
   "metadata": {
    "collapsed": false,
    "pycharm": {
     "name": "#%%\n"
    }
   }
  },
  {
   "cell_type": "code",
   "execution_count": null,
   "outputs": [],
   "source": [
    "class prop(nn.Module):\n",
    "  def __init__(self, c_in, c_out, gep, dropout, alpha):"
   ],
   "metadata": {
    "collapsed": false,
    "pycharm": {
     "name": "#%%\n"
    }
   }
  }
 ],
 "metadata": {
  "kernelspec": {
   "display_name": "Python 3",
   "language": "python",
   "name": "python3"
  },
  "language_info": {
   "codemirror_mode": {
    "name": "ipython",
    "version": 2
   },
   "file_extension": ".py",
   "mimetype": "text/x-python",
   "name": "python",
   "nbconvert_exporter": "python",
   "pygments_lexer": "ipython2",
   "version": "2.7.6"
  }
 },
 "nbformat": 4,
 "nbformat_minor": 0
}